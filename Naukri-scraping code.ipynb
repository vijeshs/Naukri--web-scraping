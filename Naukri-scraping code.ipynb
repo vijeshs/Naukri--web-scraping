{
 "cells": [
  {
   "cell_type": "code",
   "execution_count": 239,
   "metadata": {
    "ExecuteTime": {
     "end_time": "2020-04-25T12:40:29.676972Z",
     "start_time": "2020-04-25T12:40:29.668986Z"
    }
   },
   "outputs": [],
   "source": [
    "import requests\n",
    "from bs4 import BeautifulSoup\n",
    "import pandas as pd\n",
    "import re\n",
    "import time\n",
    "from IPython.display import clear_output\n",
    "import random\n",
    "from selenium.common.exceptions import NoSuchElementException"
   ]
  },
  {
   "cell_type": "code",
   "execution_count": 2,
   "metadata": {
    "ExecuteTime": {
     "end_time": "2020-04-25T08:14:07.429024Z",
     "start_time": "2020-04-25T08:14:07.425037Z"
    }
   },
   "outputs": [],
   "source": [
    "header={'user-agent':'Mozilla/5.0 (Windows NT 10.0; Win64; x64) AppleWebKit/537.36 (KHTML, like Gecko) Chrome/80.0.3987.163 Safari/537.36'}"
   ]
  },
  {
   "cell_type": "markdown",
   "metadata": {},
   "source": [
    "## Initializing selenium "
   ]
  },
  {
   "cell_type": "code",
   "execution_count": 252,
   "metadata": {
    "ExecuteTime": {
     "end_time": "2020-04-25T12:59:24.923903Z",
     "start_time": "2020-04-25T12:59:19.496945Z"
    }
   },
   "outputs": [],
   "source": [
    "from selenium import webdriver\n",
    "\n",
    "options = webdriver.ChromeOptions()\n",
    "options.add_argument('--ignore-certificate-errors')\n",
    "options.add_argument('--incognito')\n",
    "options.add_argument('--headless')\n",
    "from webdriver_manager.chrome import ChromeDriverManager\n",
    "\n",
    "driver = webdriver.Chrome(executable_path='C:/Users/VIJESH\\Desktop/chromedriver.exe')\n"
   ]
  },
  {
   "cell_type": "markdown",
   "metadata": {
    "ExecuteTime": {
     "end_time": "2020-04-25T14:29:11.719563Z",
     "start_time": "2020-04-25T14:29:11.714577Z"
    }
   },
   "source": [
    "## Business Analytics--Bangalore"
   ]
  },
  {
   "cell_type": "code",
   "execution_count": 256,
   "metadata": {
    "ExecuteTime": {
     "end_time": "2020-04-25T13:04:29.725145Z",
     "start_time": "2020-04-25T13:00:34.995578Z"
    }
   },
   "outputs": [],
   "source": [
    "Link=[]\n",
    "for page in range(1,50): #first 50 pages of the naukri search\n",
    "    driver.get(\"https://www.naukri.com/business-analyst-jobs-in-bangalore-\"+str(page))\n",
    "    timeDelay = random.randrange(0, 5)\n",
    "    time.sleep(timeDelay) \n",
    "    soup=BeautifulSoup(driver.page_source, 'lxml')#returns html of the page\n",
    "    for i in soup.findAll(attrs={'class':\"jobTuple bgWhite br4 mb-8\"}):\n",
    "        for j in i.findAll(attrs={'class':\"title fw500 ellipsis\"}):\n",
    "            Link.append(j.get('href')) #stores all the link of the job postings\n",
    "   "
   ]
  },
  {
   "cell_type": "code",
   "execution_count": 257,
   "metadata": {
    "ExecuteTime": {
     "end_time": "2020-04-25T13:04:29.864949Z",
     "start_time": "2020-04-25T13:04:29.856960Z"
    },
    "scrolled": true
   },
   "outputs": [
    {
     "data": {
      "text/plain": [
       "895"
      ]
     },
     "execution_count": 257,
     "metadata": {},
     "output_type": "execute_result"
    }
   ],
   "source": [
    "len(Link) #total link"
   ]
  },
  {
   "cell_type": "code",
   "execution_count": null,
   "metadata": {},
   "outputs": [],
   "source": []
  },
  {
   "cell_type": "code",
   "execution_count": 267,
   "metadata": {
    "ExecuteTime": {
     "end_time": "2020-04-25T13:54:36.016197Z",
     "start_time": "2020-04-25T13:15:32.911735Z"
    }
   },
   "outputs": [],
   "source": [
    "salary=[]\n",
    "experience=[]\n",
    "Location=[]\n",
    "description=[]\n",
    "role=[]\n",
    "industry_type=[]\n",
    "qualification=[]\n",
    "Functional_area=[]\n",
    "Employment_type=[]\n",
    "Role_category=[]\n",
    "company=[]\n",
    "skills=[]\n",
    "\n",
    "\n",
    "\n",
    "for lin in range(len(Link)):\n",
    "    driver.get(Link[lin])\n",
    "    #time.sleep(1)\n",
    "    soup=BeautifulSoup(driver.page_source, 'lxml') \n",
    "    if soup.find(attrs={'class':\"salary\"})==None: #to skip the error\n",
    "        continue\n",
    "    else:\n",
    "\n",
    "        experience.append(soup.find(attrs={'class':\"exp\"}).text)\n",
    "        salary.append(soup.find(attrs={'class':\"salary\"}).text)\n",
    "        Location.append(soup.find(attrs={'class':'loc'}).find('a').text)\n",
    "\n",
    "        \n",
    "        description.append(soup.find(attrs={'class':\"job-desc\"}).text)\n",
    "            \n",
    "\n",
    "        details=[]\n",
    "\n",
    "        for i in soup.find(attrs={'class':\"other-details\"}).findAll(attrs={'class':\"details\"}):\n",
    "            details.append(i.text)\n",
    "        \n",
    "        role.append(details[0])\n",
    "        industry_type.append(details[1])\n",
    "\n",
    "        Functional_area.append(details[2])\n",
    "        Employment_type.append(details[3])\n",
    "        Role_category.append(details[4])\n",
    "\n",
    "        qual=[]\n",
    "        for i in soup.find(attrs={'class':\"education\"}).findAll(attrs={'class':'details'}):\n",
    "            qual.append(i.text)\n",
    "        qualification.append(qual)\n",
    "        sk=[]\n",
    "        for i in soup.find(attrs={'class':\"key-skill\"}).findAll('a'):\n",
    "            sk.append(i.text)\n",
    "        skills.append(sk)\n",
    "\n",
    "        company.append(soup.find(attrs={'class':\"about-company\"}).find(attrs={'class':\"detail dang-inner-html\"}).text)\n",
    "\n",
    "       "
   ]
  },
  {
   "cell_type": "code",
   "execution_count": 266,
   "metadata": {
    "ExecuteTime": {
     "end_time": "2020-04-25T13:15:26.991544Z",
     "start_time": "2020-04-25T13:15:26.979560Z"
    }
   },
   "outputs": [
    {
     "data": {
      "text/plain": [
       "69"
      ]
     },
     "execution_count": 266,
     "metadata": {},
     "output_type": "execute_result"
    }
   ],
   "source": []
  },
  {
   "cell_type": "code",
   "execution_count": 268,
   "metadata": {
    "ExecuteTime": {
     "end_time": "2020-04-25T13:54:36.353271Z",
     "start_time": "2020-04-25T13:54:36.345293Z"
    }
   },
   "outputs": [],
   "source": [
    "df=pd.DataFrame()"
   ]
  },
  {
   "cell_type": "code",
   "execution_count": 269,
   "metadata": {
    "ExecuteTime": {
     "end_time": "2020-04-25T13:54:36.641504Z",
     "start_time": "2020-04-25T13:54:36.601605Z"
    }
   },
   "outputs": [],
   "source": [
    "df['company']=company\n",
    "df['role']=role\n",
    "df['salary']=salary\n",
    "df['experience']=experience\n",
    "df['Location']=Location\n",
    "df['description']=description\n",
    "df['skills']=skills\n",
    "df['qualification']=qualification\n",
    "df['industry_type']=industry_type\n",
    "\n",
    "df['Functional_area']=Functional_area\n",
    "df['Employment_type']=Employment_type\n",
    "df['Role_category']=Role_category\n",
    "\n"
   ]
  },
  {
   "cell_type": "code",
   "execution_count": 271,
   "metadata": {
    "ExecuteTime": {
     "end_time": "2020-04-25T13:58:46.614503Z",
     "start_time": "2020-04-25T13:58:46.606524Z"
    }
   },
   "outputs": [
    {
     "data": {
      "text/plain": [
       "798"
      ]
     },
     "execution_count": 271,
     "metadata": {},
     "output_type": "execute_result"
    }
   ],
   "source": [
    "len(df)"
   ]
  },
  {
   "cell_type": "code",
   "execution_count": 272,
   "metadata": {
    "ExecuteTime": {
     "end_time": "2020-04-25T13:59:14.738771Z",
     "start_time": "2020-04-25T13:59:14.720819Z"
    }
   },
   "outputs": [
    {
     "data": {
      "text/html": [
       "<div>\n",
       "<style scoped>\n",
       "    .dataframe tbody tr th:only-of-type {\n",
       "        vertical-align: middle;\n",
       "    }\n",
       "\n",
       "    .dataframe tbody tr th {\n",
       "        vertical-align: top;\n",
       "    }\n",
       "\n",
       "    .dataframe thead th {\n",
       "        text-align: right;\n",
       "    }\n",
       "</style>\n",
       "<table border=\"1\" class=\"dataframe\">\n",
       "  <thead>\n",
       "    <tr style=\"text-align: right;\">\n",
       "      <th></th>\n",
       "      <th>company</th>\n",
       "      <th>role</th>\n",
       "      <th>salary</th>\n",
       "      <th>experience</th>\n",
       "      <th>Location</th>\n",
       "      <th>description</th>\n",
       "      <th>skills</th>\n",
       "      <th>qualification</th>\n",
       "      <th>industry_type</th>\n",
       "      <th>Functional_area</th>\n",
       "      <th>Employment_type</th>\n",
       "      <th>Role_category</th>\n",
       "    </tr>\n",
       "  </thead>\n",
       "  <tbody>\n",
       "    <tr>\n",
       "      <th>0</th>\n",
       "      <td>Kofluence is a start-up positioned as \"Ad Tech...</td>\n",
       "      <td>RoleBusiness Analyst,</td>\n",
       "      <td>₹ 1,25,000 - 1,50,000 P.A.</td>\n",
       "      <td>0 years</td>\n",
       "      <td>Bengaluru( Koramangala )</td>\n",
       "      <td>Job descriptionBusiness  Analyst (Full time In...</td>\n",
       "      <td>[Requirements Management, ms excel, Business C...</td>\n",
       "      <td>[UG :Any Graduate in Any Specialization, PG :P...</td>\n",
       "      <td>Industry TypeAdvertising, PR, MR, Event Manage...</td>\n",
       "      <td>Functional AreaAnalytics &amp; Business Intelligence,</td>\n",
       "      <td>Employment TypeFull Time, Permanent</td>\n",
       "      <td>Role CategoryAnalytics &amp; BI</td>\n",
       "    </tr>\n",
       "    <tr>\n",
       "      <th>1</th>\n",
       "      <td>Inspiration Manpower Consultancy, one of the f...</td>\n",
       "      <td>RoleAssociate/Senior Associate -(NonTechnical),</td>\n",
       "      <td>₹ 1,75,000 - 6,00,000 P.A.</td>\n",
       "      <td>0 - 5 years</td>\n",
       "      <td>Mangalore</td>\n",
       "      <td>Job descriptionHiring for Major clients for Ba...</td>\n",
       "      <td>[BPO, Investment Banking, Financial Services, ...</td>\n",
       "      <td>[UG :Graduation Not Required, Any Graduate in ...</td>\n",
       "      <td>Industry TypeBPO, Call Centre, ITeS,</td>\n",
       "      <td>Functional AreaITES, BPO, KPO, LPO, Customer S...</td>\n",
       "      <td>Employment TypeFull Time, Permanent</td>\n",
       "      <td>Role CategoryVoice</td>\n",
       "    </tr>\n",
       "    <tr>\n",
       "      <th>2</th>\n",
       "      <td>Inspiration Manpower Consultancy, one of the f...</td>\n",
       "      <td>RoleTeam Leader -(NonTechnical),</td>\n",
       "      <td>₹ 2,50,000 - 7,00,000 P.A.</td>\n",
       "      <td>0 - 5 years</td>\n",
       "      <td>Chennai</td>\n",
       "      <td>Job descriptionWE HAVE AN EXCELLENT OPENING FO...</td>\n",
       "      <td>[bpo, accounts executive, TRMS, Accounting, te...</td>\n",
       "      <td>[UG :Graduation Not Required, Any Graduate in ...</td>\n",
       "      <td>Industry TypeBPO, Call Centre, ITeS,</td>\n",
       "      <td>Functional AreaITES, BPO, KPO, LPO, Customer S...</td>\n",
       "      <td>Employment TypeFull Time, Permanent</td>\n",
       "      <td>Role CategoryVoice</td>\n",
       "    </tr>\n",
       "    <tr>\n",
       "      <th>3</th>\n",
       "      <td>Fiserv is a global financial services technolo...</td>\n",
       "      <td>RoleBusiness Analyst,</td>\n",
       "      <td>Not Disclosed</td>\n",
       "      <td>3 - 4 years</td>\n",
       "      <td>Bengaluru</td>\n",
       "      <td>Job description  Job Responsibilities    Desig...</td>\n",
       "      <td>[Quantitative research, Business Analyst, Proj...</td>\n",
       "      <td>[UG :B.Tech/B.E. in Computers, PG :Post Gradua...</td>\n",
       "      <td>Industry TypeIT-Software, Software Services,</td>\n",
       "      <td>Functional AreaIT Software - Application Progr...</td>\n",
       "      <td>Employment TypeFull Time, Permanent</td>\n",
       "      <td>Role CategorySystem Design/Implementation/ERP/CRM</td>\n",
       "    </tr>\n",
       "    <tr>\n",
       "      <th>4</th>\n",
       "      <td>Factspan Inc.</td>\n",
       "      <td>RoleBusiness Analyst,</td>\n",
       "      <td>Not Disclosed</td>\n",
       "      <td>1 - 3 years</td>\n",
       "      <td>Bengaluru</td>\n",
       "      <td>Job description &amp;  Roles and responsibilities ...</td>\n",
       "      <td>[Hospitality, SAS, Business analytics, Analyti...</td>\n",
       "      <td>[UG :Any Graduate in Any Specialization, PG :P...</td>\n",
       "      <td>Industry TypeStrategy, Management Consulting F...</td>\n",
       "      <td>Functional AreaIT Software - Application Progr...</td>\n",
       "      <td>Employment TypeFull Time, Permanent</td>\n",
       "      <td>Role CategorySystem Design/Implementation/ERP/CRM</td>\n",
       "    </tr>\n",
       "  </tbody>\n",
       "</table>\n",
       "</div>"
      ],
      "text/plain": [
       "                                             company  \\\n",
       "0  Kofluence is a start-up positioned as \"Ad Tech...   \n",
       "1  Inspiration Manpower Consultancy, one of the f...   \n",
       "2  Inspiration Manpower Consultancy, one of the f...   \n",
       "3  Fiserv is a global financial services technolo...   \n",
       "4                                      Factspan Inc.   \n",
       "\n",
       "                                              role  \\\n",
       "0                            RoleBusiness Analyst,   \n",
       "1  RoleAssociate/Senior Associate -(NonTechnical),   \n",
       "2                 RoleTeam Leader -(NonTechnical),   \n",
       "3                            RoleBusiness Analyst,   \n",
       "4                            RoleBusiness Analyst,   \n",
       "\n",
       "                        salary   experience                  Location  \\\n",
       "0  ₹ 1,25,000 - 1,50,000 P.A.       0 years  Bengaluru( Koramangala )   \n",
       "1  ₹ 1,75,000 - 6,00,000 P.A.   0 - 5 years                 Mangalore   \n",
       "2  ₹ 2,50,000 - 7,00,000 P.A.   0 - 5 years                   Chennai   \n",
       "3                Not Disclosed  3 - 4 years                 Bengaluru   \n",
       "4                Not Disclosed  1 - 3 years                 Bengaluru   \n",
       "\n",
       "                                         description  \\\n",
       "0  Job descriptionBusiness  Analyst (Full time In...   \n",
       "1  Job descriptionHiring for Major clients for Ba...   \n",
       "2  Job descriptionWE HAVE AN EXCELLENT OPENING FO...   \n",
       "3  Job description  Job Responsibilities    Desig...   \n",
       "4  Job description &  Roles and responsibilities ...   \n",
       "\n",
       "                                              skills  \\\n",
       "0  [Requirements Management, ms excel, Business C...   \n",
       "1  [BPO, Investment Banking, Financial Services, ...   \n",
       "2  [bpo, accounts executive, TRMS, Accounting, te...   \n",
       "3  [Quantitative research, Business Analyst, Proj...   \n",
       "4  [Hospitality, SAS, Business analytics, Analyti...   \n",
       "\n",
       "                                       qualification  \\\n",
       "0  [UG :Any Graduate in Any Specialization, PG :P...   \n",
       "1  [UG :Graduation Not Required, Any Graduate in ...   \n",
       "2  [UG :Graduation Not Required, Any Graduate in ...   \n",
       "3  [UG :B.Tech/B.E. in Computers, PG :Post Gradua...   \n",
       "4  [UG :Any Graduate in Any Specialization, PG :P...   \n",
       "\n",
       "                                       industry_type  \\\n",
       "0  Industry TypeAdvertising, PR, MR, Event Manage...   \n",
       "1               Industry TypeBPO, Call Centre, ITeS,   \n",
       "2               Industry TypeBPO, Call Centre, ITeS,   \n",
       "3       Industry TypeIT-Software, Software Services,   \n",
       "4  Industry TypeStrategy, Management Consulting F...   \n",
       "\n",
       "                                     Functional_area  \\\n",
       "0  Functional AreaAnalytics & Business Intelligence,   \n",
       "1  Functional AreaITES, BPO, KPO, LPO, Customer S...   \n",
       "2  Functional AreaITES, BPO, KPO, LPO, Customer S...   \n",
       "3  Functional AreaIT Software - Application Progr...   \n",
       "4  Functional AreaIT Software - Application Progr...   \n",
       "\n",
       "                       Employment_type  \\\n",
       "0  Employment TypeFull Time, Permanent   \n",
       "1  Employment TypeFull Time, Permanent   \n",
       "2  Employment TypeFull Time, Permanent   \n",
       "3  Employment TypeFull Time, Permanent   \n",
       "4  Employment TypeFull Time, Permanent   \n",
       "\n",
       "                                       Role_category  \n",
       "0                        Role CategoryAnalytics & BI  \n",
       "1                                 Role CategoryVoice  \n",
       "2                                 Role CategoryVoice  \n",
       "3  Role CategorySystem Design/Implementation/ERP/CRM  \n",
       "4  Role CategorySystem Design/Implementation/ERP/CRM  "
      ]
     },
     "execution_count": 272,
     "metadata": {},
     "output_type": "execute_result"
    }
   ],
   "source": [
    "df.head()"
   ]
  },
  {
   "cell_type": "code",
   "execution_count": 273,
   "metadata": {
    "ExecuteTime": {
     "end_time": "2020-04-25T13:59:46.039702Z",
     "start_time": "2020-04-25T13:59:45.854475Z"
    }
   },
   "outputs": [],
   "source": [
    "df.to_csv('naukri.csv',index=False)"
   ]
  },
  {
   "cell_type": "code",
   "execution_count": null,
   "metadata": {
    "ExecuteTime": {
     "end_time": "2020-04-25T14:02:53.358600Z",
     "start_time": "2020-04-25T14:02:53.229742Z"
    }
   },
   "outputs": [],
   "source": []
  },
  {
   "cell_type": "code",
   "execution_count": null,
   "metadata": {},
   "outputs": [],
   "source": []
  }
 ],
 "metadata": {
  "kernelspec": {
   "display_name": "Python 3",
   "language": "python",
   "name": "python3"
  },
  "language_info": {
   "codemirror_mode": {
    "name": "ipython",
    "version": 3
   },
   "file_extension": ".py",
   "mimetype": "text/x-python",
   "name": "python",
   "nbconvert_exporter": "python",
   "pygments_lexer": "ipython3",
   "version": "3.7.5"
  },
  "varInspector": {
   "cols": {
    "lenName": 16,
    "lenType": 16,
    "lenVar": 40
   },
   "kernels_config": {
    "python": {
     "delete_cmd_postfix": "",
     "delete_cmd_prefix": "del ",
     "library": "var_list.py",
     "varRefreshCmd": "print(var_dic_list())"
    },
    "r": {
     "delete_cmd_postfix": ") ",
     "delete_cmd_prefix": "rm(",
     "library": "var_list.r",
     "varRefreshCmd": "cat(var_dic_list()) "
    }
   },
   "types_to_exclude": [
    "module",
    "function",
    "builtin_function_or_method",
    "instance",
    "_Feature"
   ],
   "window_display": false
  }
 },
 "nbformat": 4,
 "nbformat_minor": 2
}
